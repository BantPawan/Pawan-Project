{
 "cells": [
  {
   "cell_type": "code",
   "execution_count": 2,
   "id": "8a13401d-5c27-4dde-934a-a559d4d7a793",
   "metadata": {},
   "outputs": [],
   "source": [
    "import pandas as pd\n",
    "import numpy as np\n",
    "import matplotlib.pyplot as plt\n",
    "import seaborn as sns"
   ]
  },
  {
   "cell_type": "code",
   "execution_count": 3,
   "id": "c199db9a-b1f2-47cf-94fd-c67b11eb4e2c",
   "metadata": {},
   "outputs": [],
   "source": [
    "df = pd.read_csv('C:/Users/SONY/Machine_Learning_Project/Processed_Data/gurgaon_properties_cleaned_v2.csv')"
   ]
  },
  {
   "cell_type": "code",
   "execution_count": 4,
   "id": "c47e1a6a-7d93-4d3d-b894-7e3c815c7e05",
   "metadata": {},
   "outputs": [
    {
     "data": {
      "text/html": [
       "<div>\n",
       "<style scoped>\n",
       "    .dataframe tbody tr th:only-of-type {\n",
       "        vertical-align: middle;\n",
       "    }\n",
       "\n",
       "    .dataframe tbody tr th {\n",
       "        vertical-align: top;\n",
       "    }\n",
       "\n",
       "    .dataframe thead th {\n",
       "        text-align: right;\n",
       "    }\n",
       "</style>\n",
       "<table border=\"1\" class=\"dataframe\">\n",
       "  <thead>\n",
       "    <tr style=\"text-align: right;\">\n",
       "      <th></th>\n",
       "      <th>society</th>\n",
       "      <th>property_type</th>\n",
       "      <th>price</th>\n",
       "      <th>price_per_sqft</th>\n",
       "      <th>areaWithType</th>\n",
       "      <th>area</th>\n",
       "      <th>bedRoom</th>\n",
       "      <th>bathroom</th>\n",
       "      <th>balcony</th>\n",
       "      <th>floorNum</th>\n",
       "      <th>...</th>\n",
       "      <th>super_built_up_area</th>\n",
       "      <th>built_up_area</th>\n",
       "      <th>carpet_area</th>\n",
       "      <th>study room</th>\n",
       "      <th>servant room</th>\n",
       "      <th>store room</th>\n",
       "      <th>pooja room</th>\n",
       "      <th>others</th>\n",
       "      <th>furnishing_type</th>\n",
       "      <th>luxury_score</th>\n",
       "    </tr>\n",
       "  </thead>\n",
       "  <tbody>\n",
       "    <tr>\n",
       "      <th>0</th>\n",
       "      <td>emaar palm gardens</td>\n",
       "      <td>flat</td>\n",
       "      <td>1.75</td>\n",
       "      <td>9210.0</td>\n",
       "      <td>Super Built up area 1900(176.52 sq.m.)Built Up...</td>\n",
       "      <td>1900.0</td>\n",
       "      <td>3</td>\n",
       "      <td>3</td>\n",
       "      <td>3</td>\n",
       "      <td>6.0</td>\n",
       "      <td>...</td>\n",
       "      <td>1900.0</td>\n",
       "      <td>1600.0</td>\n",
       "      <td>1240.0</td>\n",
       "      <td>0</td>\n",
       "      <td>1</td>\n",
       "      <td>0</td>\n",
       "      <td>0</td>\n",
       "      <td>0</td>\n",
       "      <td>2</td>\n",
       "      <td>150</td>\n",
       "    </tr>\n",
       "    <tr>\n",
       "      <th>1</th>\n",
       "      <td>eros wembley estate</td>\n",
       "      <td>flat</td>\n",
       "      <td>1.40</td>\n",
       "      <td>10174.0</td>\n",
       "      <td>Super Built up area 1376(127.83 sq.m.)</td>\n",
       "      <td>1376.0</td>\n",
       "      <td>3</td>\n",
       "      <td>3</td>\n",
       "      <td>2</td>\n",
       "      <td>9.0</td>\n",
       "      <td>...</td>\n",
       "      <td>1376.0</td>\n",
       "      <td>NaN</td>\n",
       "      <td>NaN</td>\n",
       "      <td>0</td>\n",
       "      <td>0</td>\n",
       "      <td>1</td>\n",
       "      <td>0</td>\n",
       "      <td>0</td>\n",
       "      <td>2</td>\n",
       "      <td>117</td>\n",
       "    </tr>\n",
       "    <tr>\n",
       "      <th>2</th>\n",
       "      <td>ss the leaf</td>\n",
       "      <td>flat</td>\n",
       "      <td>2.13</td>\n",
       "      <td>7574.0</td>\n",
       "      <td>Super Built up area 2812(261.24 sq.m.)Built Up...</td>\n",
       "      <td>2812.0</td>\n",
       "      <td>4</td>\n",
       "      <td>4</td>\n",
       "      <td>3</td>\n",
       "      <td>6.0</td>\n",
       "      <td>...</td>\n",
       "      <td>2812.0</td>\n",
       "      <td>2600.0</td>\n",
       "      <td>2400.0</td>\n",
       "      <td>0</td>\n",
       "      <td>0</td>\n",
       "      <td>0</td>\n",
       "      <td>0</td>\n",
       "      <td>0</td>\n",
       "      <td>0</td>\n",
       "      <td>49</td>\n",
       "    </tr>\n",
       "    <tr>\n",
       "      <th>3</th>\n",
       "      <td>international city by sobha phase 2</td>\n",
       "      <td>house</td>\n",
       "      <td>6.25</td>\n",
       "      <td>10035.0</td>\n",
       "      <td>Plot area 692(578.6 sq.m.)</td>\n",
       "      <td>6228.0</td>\n",
       "      <td>5</td>\n",
       "      <td>7</td>\n",
       "      <td>3+</td>\n",
       "      <td>3.0</td>\n",
       "      <td>...</td>\n",
       "      <td>NaN</td>\n",
       "      <td>6228.0</td>\n",
       "      <td>NaN</td>\n",
       "      <td>1</td>\n",
       "      <td>1</td>\n",
       "      <td>1</td>\n",
       "      <td>1</td>\n",
       "      <td>0</td>\n",
       "      <td>0</td>\n",
       "      <td>147</td>\n",
       "    </tr>\n",
       "    <tr>\n",
       "      <th>4</th>\n",
       "      <td>ss the coralwood</td>\n",
       "      <td>flat</td>\n",
       "      <td>1.10</td>\n",
       "      <td>4857.0</td>\n",
       "      <td>Super Built up area 1750(162.58 sq.m.)</td>\n",
       "      <td>2265.0</td>\n",
       "      <td>3</td>\n",
       "      <td>3</td>\n",
       "      <td>2</td>\n",
       "      <td>9.0</td>\n",
       "      <td>...</td>\n",
       "      <td>1750.0</td>\n",
       "      <td>NaN</td>\n",
       "      <td>NaN</td>\n",
       "      <td>0</td>\n",
       "      <td>0</td>\n",
       "      <td>0</td>\n",
       "      <td>0</td>\n",
       "      <td>0</td>\n",
       "      <td>0</td>\n",
       "      <td>75</td>\n",
       "    </tr>\n",
       "  </tbody>\n",
       "</table>\n",
       "<p>5 rows × 24 columns</p>\n",
       "</div>"
      ],
      "text/plain": [
       "                               society property_type  price  price_per_sqft  \\\n",
       "0                   emaar palm gardens          flat   1.75          9210.0   \n",
       "1                  eros wembley estate          flat   1.40         10174.0   \n",
       "2                          ss the leaf          flat   2.13          7574.0   \n",
       "3  international city by sobha phase 2         house   6.25         10035.0   \n",
       "4                     ss the coralwood          flat   1.10          4857.0   \n",
       "\n",
       "                                        areaWithType    area  bedRoom  \\\n",
       "0  Super Built up area 1900(176.52 sq.m.)Built Up...  1900.0        3   \n",
       "1             Super Built up area 1376(127.83 sq.m.)  1376.0        3   \n",
       "2  Super Built up area 2812(261.24 sq.m.)Built Up...  2812.0        4   \n",
       "3                         Plot area 692(578.6 sq.m.)  6228.0        5   \n",
       "4             Super Built up area 1750(162.58 sq.m.)  2265.0        3   \n",
       "\n",
       "   bathroom balcony  floorNum  ... super_built_up_area built_up_area  \\\n",
       "0         3       3       6.0  ...              1900.0        1600.0   \n",
       "1         3       2       9.0  ...              1376.0           NaN   \n",
       "2         4       3       6.0  ...              2812.0        2600.0   \n",
       "3         7      3+       3.0  ...                 NaN        6228.0   \n",
       "4         3       2       9.0  ...              1750.0           NaN   \n",
       "\n",
       "  carpet_area study room  servant room  store room  pooja room  others  \\\n",
       "0      1240.0          0             1           0           0       0   \n",
       "1         NaN          0             0           1           0       0   \n",
       "2      2400.0          0             0           0           0       0   \n",
       "3         NaN          1             1           1           1       0   \n",
       "4         NaN          0             0           0           0       0   \n",
       "\n",
       "   furnishing_type  luxury_score  \n",
       "0                2           150  \n",
       "1                2           117  \n",
       "2                0            49  \n",
       "3                0           147  \n",
       "4                0            75  \n",
       "\n",
       "[5 rows x 24 columns]"
      ]
     },
     "execution_count": 4,
     "metadata": {},
     "output_type": "execute_result"
    }
   ],
   "source": [
    "df.head()"
   ]
  },
  {
   "cell_type": "code",
   "execution_count": 5,
   "id": "dddcb595-72d9-4068-b291-6985d6a09aa8",
   "metadata": {},
   "outputs": [
    {
     "data": {
      "text/plain": [
       "(3480, 24)"
      ]
     },
     "execution_count": 5,
     "metadata": {},
     "output_type": "execute_result"
    }
   ],
   "source": [
    "df.shape"
   ]
  },
  {
   "cell_type": "code",
   "execution_count": 6,
   "id": "de17d144-ea2d-4119-9c10-081a9c801cd7",
   "metadata": {},
   "outputs": [
    {
     "name": "stdout",
     "output_type": "stream",
     "text": [
      "<class 'pandas.core.frame.DataFrame'>\n",
      "RangeIndex: 3480 entries, 0 to 3479\n",
      "Data columns (total 24 columns):\n",
      " #   Column               Non-Null Count  Dtype  \n",
      "---  ------               --------------  -----  \n",
      " 0   society              3479 non-null   object \n",
      " 1   property_type        3480 non-null   object \n",
      " 2   price                3462 non-null   float64\n",
      " 3   price_per_sqft       3462 non-null   float64\n",
      " 4   areaWithType         3480 non-null   object \n",
      " 5   area                 3462 non-null   float64\n",
      " 6   bedRoom              3480 non-null   int64  \n",
      " 7   bathroom             3480 non-null   int64  \n",
      " 8   balcony              3480 non-null   object \n",
      " 9   floorNum             3459 non-null   float64\n",
      " 10  facing               2517 non-null   object \n",
      " 11  agePossession        3480 non-null   object \n",
      " 12  property_id          2561 non-null   object \n",
      " 13  sector               3480 non-null   object \n",
      " 14  super_built_up_area  1736 non-null   float64\n",
      " 15  built_up_area        1705 non-null   float64\n",
      " 16  carpet_area          1702 non-null   float64\n",
      " 17  study room           3480 non-null   int64  \n",
      " 18  servant room         3480 non-null   int64  \n",
      " 19  store room           3480 non-null   int64  \n",
      " 20  pooja room           3480 non-null   int64  \n",
      " 21  others               3480 non-null   int64  \n",
      " 22  furnishing_type      3480 non-null   int64  \n",
      " 23  luxury_score         3480 non-null   int64  \n",
      "dtypes: float64(7), int64(9), object(8)\n",
      "memory usage: 652.6+ KB\n"
     ]
    }
   ],
   "source": [
    "df.info()"
   ]
  },
  {
   "cell_type": "code",
   "execution_count": 7,
   "id": "e36347c6-2c61-41ae-aaa0-a9691541cc35",
   "metadata": {},
   "outputs": [
    {
     "data": {
      "text/plain": [
       "103"
      ]
     },
     "execution_count": 7,
     "metadata": {},
     "output_type": "execute_result"
    }
   ],
   "source": [
    "df.duplicated().sum()"
   ]
  },
  {
   "cell_type": "code",
   "execution_count": 8,
   "id": "e0fd7560-5b6c-4d78-89bb-d7c8a5201173",
   "metadata": {},
   "outputs": [],
   "source": [
    "df.drop_duplicates(inplace=True)"
   ]
  },
  {
   "cell_type": "code",
   "execution_count": 9,
   "id": "6d848a5b-df59-4147-b319-f843706ecc87",
   "metadata": {},
   "outputs": [
    {
     "data": {
      "text/html": [
       "<div>\n",
       "<style scoped>\n",
       "    .dataframe tbody tr th:only-of-type {\n",
       "        vertical-align: middle;\n",
       "    }\n",
       "\n",
       "    .dataframe tbody tr th {\n",
       "        vertical-align: top;\n",
       "    }\n",
       "\n",
       "    .dataframe thead th {\n",
       "        text-align: right;\n",
       "    }\n",
       "</style>\n",
       "<table border=\"1\" class=\"dataframe\">\n",
       "  <thead>\n",
       "    <tr style=\"text-align: right;\">\n",
       "      <th></th>\n",
       "      <th>society</th>\n",
       "      <th>property_type</th>\n",
       "      <th>price</th>\n",
       "      <th>price_per_sqft</th>\n",
       "      <th>areaWithType</th>\n",
       "      <th>area</th>\n",
       "      <th>bedRoom</th>\n",
       "      <th>bathroom</th>\n",
       "      <th>balcony</th>\n",
       "      <th>floorNum</th>\n",
       "      <th>...</th>\n",
       "      <th>super_built_up_area</th>\n",
       "      <th>built_up_area</th>\n",
       "      <th>carpet_area</th>\n",
       "      <th>study room</th>\n",
       "      <th>servant room</th>\n",
       "      <th>store room</th>\n",
       "      <th>pooja room</th>\n",
       "      <th>others</th>\n",
       "      <th>furnishing_type</th>\n",
       "      <th>luxury_score</th>\n",
       "    </tr>\n",
       "  </thead>\n",
       "  <tbody>\n",
       "    <tr>\n",
       "      <th>0</th>\n",
       "      <td>emaar palm gardens</td>\n",
       "      <td>flat</td>\n",
       "      <td>1.75</td>\n",
       "      <td>9210.0</td>\n",
       "      <td>Super Built up area 1900(176.52 sq.m.)Built Up...</td>\n",
       "      <td>1900.0</td>\n",
       "      <td>3</td>\n",
       "      <td>3</td>\n",
       "      <td>3</td>\n",
       "      <td>6.0</td>\n",
       "      <td>...</td>\n",
       "      <td>1900.0</td>\n",
       "      <td>1600.0</td>\n",
       "      <td>1240.0</td>\n",
       "      <td>0</td>\n",
       "      <td>1</td>\n",
       "      <td>0</td>\n",
       "      <td>0</td>\n",
       "      <td>0</td>\n",
       "      <td>2</td>\n",
       "      <td>150</td>\n",
       "    </tr>\n",
       "    <tr>\n",
       "      <th>1</th>\n",
       "      <td>eros wembley estate</td>\n",
       "      <td>flat</td>\n",
       "      <td>1.40</td>\n",
       "      <td>10174.0</td>\n",
       "      <td>Super Built up area 1376(127.83 sq.m.)</td>\n",
       "      <td>1376.0</td>\n",
       "      <td>3</td>\n",
       "      <td>3</td>\n",
       "      <td>2</td>\n",
       "      <td>9.0</td>\n",
       "      <td>...</td>\n",
       "      <td>1376.0</td>\n",
       "      <td>NaN</td>\n",
       "      <td>NaN</td>\n",
       "      <td>0</td>\n",
       "      <td>0</td>\n",
       "      <td>1</td>\n",
       "      <td>0</td>\n",
       "      <td>0</td>\n",
       "      <td>2</td>\n",
       "      <td>117</td>\n",
       "    </tr>\n",
       "    <tr>\n",
       "      <th>2</th>\n",
       "      <td>ss the leaf</td>\n",
       "      <td>flat</td>\n",
       "      <td>2.13</td>\n",
       "      <td>7574.0</td>\n",
       "      <td>Super Built up area 2812(261.24 sq.m.)Built Up...</td>\n",
       "      <td>2812.0</td>\n",
       "      <td>4</td>\n",
       "      <td>4</td>\n",
       "      <td>3</td>\n",
       "      <td>6.0</td>\n",
       "      <td>...</td>\n",
       "      <td>2812.0</td>\n",
       "      <td>2600.0</td>\n",
       "      <td>2400.0</td>\n",
       "      <td>0</td>\n",
       "      <td>0</td>\n",
       "      <td>0</td>\n",
       "      <td>0</td>\n",
       "      <td>0</td>\n",
       "      <td>0</td>\n",
       "      <td>49</td>\n",
       "    </tr>\n",
       "    <tr>\n",
       "      <th>3</th>\n",
       "      <td>international city by sobha phase 2</td>\n",
       "      <td>house</td>\n",
       "      <td>6.25</td>\n",
       "      <td>10035.0</td>\n",
       "      <td>Plot area 692(578.6 sq.m.)</td>\n",
       "      <td>6228.0</td>\n",
       "      <td>5</td>\n",
       "      <td>7</td>\n",
       "      <td>3+</td>\n",
       "      <td>3.0</td>\n",
       "      <td>...</td>\n",
       "      <td>NaN</td>\n",
       "      <td>6228.0</td>\n",
       "      <td>NaN</td>\n",
       "      <td>1</td>\n",
       "      <td>1</td>\n",
       "      <td>1</td>\n",
       "      <td>1</td>\n",
       "      <td>0</td>\n",
       "      <td>0</td>\n",
       "      <td>147</td>\n",
       "    </tr>\n",
       "    <tr>\n",
       "      <th>4</th>\n",
       "      <td>ss the coralwood</td>\n",
       "      <td>flat</td>\n",
       "      <td>1.10</td>\n",
       "      <td>4857.0</td>\n",
       "      <td>Super Built up area 1750(162.58 sq.m.)</td>\n",
       "      <td>2265.0</td>\n",
       "      <td>3</td>\n",
       "      <td>3</td>\n",
       "      <td>2</td>\n",
       "      <td>9.0</td>\n",
       "      <td>...</td>\n",
       "      <td>1750.0</td>\n",
       "      <td>NaN</td>\n",
       "      <td>NaN</td>\n",
       "      <td>0</td>\n",
       "      <td>0</td>\n",
       "      <td>0</td>\n",
       "      <td>0</td>\n",
       "      <td>0</td>\n",
       "      <td>0</td>\n",
       "      <td>75</td>\n",
       "    </tr>\n",
       "  </tbody>\n",
       "</table>\n",
       "<p>5 rows × 24 columns</p>\n",
       "</div>"
      ],
      "text/plain": [
       "                               society property_type  price  price_per_sqft  \\\n",
       "0                   emaar palm gardens          flat   1.75          9210.0   \n",
       "1                  eros wembley estate          flat   1.40         10174.0   \n",
       "2                          ss the leaf          flat   2.13          7574.0   \n",
       "3  international city by sobha phase 2         house   6.25         10035.0   \n",
       "4                     ss the coralwood          flat   1.10          4857.0   \n",
       "\n",
       "                                        areaWithType    area  bedRoom  \\\n",
       "0  Super Built up area 1900(176.52 sq.m.)Built Up...  1900.0        3   \n",
       "1             Super Built up area 1376(127.83 sq.m.)  1376.0        3   \n",
       "2  Super Built up area 2812(261.24 sq.m.)Built Up...  2812.0        4   \n",
       "3                         Plot area 692(578.6 sq.m.)  6228.0        5   \n",
       "4             Super Built up area 1750(162.58 sq.m.)  2265.0        3   \n",
       "\n",
       "   bathroom balcony  floorNum  ... super_built_up_area built_up_area  \\\n",
       "0         3       3       6.0  ...              1900.0        1600.0   \n",
       "1         3       2       9.0  ...              1376.0           NaN   \n",
       "2         4       3       6.0  ...              2812.0        2600.0   \n",
       "3         7      3+       3.0  ...                 NaN        6228.0   \n",
       "4         3       2       9.0  ...              1750.0           NaN   \n",
       "\n",
       "  carpet_area study room  servant room  store room  pooja room  others  \\\n",
       "0      1240.0          0             1           0           0       0   \n",
       "1         NaN          0             0           1           0       0   \n",
       "2      2400.0          0             0           0           0       0   \n",
       "3         NaN          1             1           1           1       0   \n",
       "4         NaN          0             0           0           0       0   \n",
       "\n",
       "   furnishing_type  luxury_score  \n",
       "0                2           150  \n",
       "1                2           117  \n",
       "2                0            49  \n",
       "3                0           147  \n",
       "4                0            75  \n",
       "\n",
       "[5 rows x 24 columns]"
      ]
     },
     "execution_count": 9,
     "metadata": {},
     "output_type": "execute_result"
    }
   ],
   "source": [
    "df.head()"
   ]
  },
  {
   "cell_type": "markdown",
   "id": "2efbc8d3-3859-48e9-a21c-bc9f88fac3f5",
   "metadata": {},
   "source": [
    "# property_type"
   ]
  },
  {
   "cell_type": "code",
   "execution_count": 10,
   "id": "8224bea0-1c00-40d4-8284-5ea12c633773",
   "metadata": {},
   "outputs": [
    {
     "data": {
      "text/plain": [
       "<Axes: xlabel='property_type'>"
      ]
     },
     "execution_count": 10,
     "metadata": {},
     "output_type": "execute_result"
    },
    {
     "data": {
      "image/png": "[encoded data removed]",
      "text/plain": [
       "<Figure size 640x480 with 1 Axes>"
      ]
     },
     "metadata": {},
     "output_type": "display_data"
    }
   ],
   "source": [
    "df['property_type'].value_counts().plot(kind='bar',)"
   ]
  },
  {
   "cell_type": "markdown",
   "id": "06564618-beb0-4df6-acec-8d2e89e3a6e0",
   "metadata": {},
   "source": [
    "Observations\n",
    "    Flats are in majority(75 percent) and there are less number of houses(~25 percent)\n",
    "    No missing values"
   ]
  },
  {
   "cell_type": "markdown",
   "id": "79b182a5-3f20-4e8f-b3d3-8da45c92deda",
   "metadata": {},
   "source": [
    "# society"
   ]
  },
  {
   "cell_type": "code",
   "execution_count": 11,
   "id": "0911d896-0b11-474d-b936-4a9559dca6a9",
   "metadata": {},
   "outputs": [
    {
     "data": {
      "text/plain": [
       "(591,)"
      ]
     },
     "execution_count": 11,
     "metadata": {},
     "output_type": "execute_result"
    }
   ],
   "source": [
    "df['society'].value_counts().shape"
   ]
  },
  {
   "cell_type": "code",
   "execution_count": 12,
   "id": "fb548c6b-2568-4107-80ca-a65ec360bb4c",
   "metadata": {},
   "outputs": [
    {
     "data": {
      "text/plain": [
       "society\n",
       "independent                             534\n",
       "tulip violet                             75\n",
       "ss the leaf                              73\n",
       "dlf new town heights                     42\n",
       "shapoorji pallonji joyville gurugram     42\n",
       "                                       ... \n",
       "sneh vihar                                1\n",
       "raheja vedas                              1\n",
       "bptp park generations                     1\n",
       "huda plots                                1\n",
       "row house                                 1\n",
       "Name: count, Length: 591, dtype: int64"
      ]
     },
     "execution_count": 12,
     "metadata": {},
     "output_type": "execute_result"
    }
   ],
   "source": [
    "df['society'].value_counts()"
   ]
  },
  {
   "cell_type": "code",
   "execution_count": 13,
   "id": "d0f411b2-c8fe-45ed-b2c0-be53ef9e57d1",
   "metadata": {},
   "outputs": [
    {
     "data": {
      "text/plain": [
       "society\n",
       "tulip violet                            0.026390\n",
       "ss the leaf                             0.052076\n",
       "shapoorji pallonji joyville gurugram    0.066854\n",
       "dlf new town heights                    0.081633\n",
       "shree vardhman victoria                 0.093596\n",
       "                                          ...   \n",
       "godrej aria                             0.525334\n",
       "tarc maceo                              0.529205\n",
       "sbtl caladium                           0.533075\n",
       "dlf city plots phase 2                  0.536946\n",
       "raheja vedaanta                         0.540816\n",
       "Name: proportion, Length: 75, dtype: float64"
      ]
     },
     "execution_count": 13,
     "metadata": {},
     "output_type": "execute_result"
    }
   ],
   "source": [
    "df[df['society'] != 'independent']['society'].value_counts(normalize=True).cumsum().head(75)"
   ]
  },
  {
   "cell_type": "code",
   "execution_count": 14,
   "id": "3341ab36-980e-4dd0-8480-58d23335c9a8",
   "metadata": {},
   "outputs": [
    {
     "data": {
      "text/plain": [
       "{'Very High (>100)': 1,\n",
       " 'High (50-100)': 2,\n",
       " 'Average (10-49)': 81,\n",
       " 'Low (2-9)': 249,\n",
       " 'Very Low (1)': 258}"
      ]
     },
     "execution_count": 14,
     "metadata": {},
     "output_type": "execute_result"
    }
   ],
   "source": [
    "society_counts = df['society'].value_counts()\n",
    "\n",
    "# Frequency distribution for societies\n",
    "frequency_bins = {\n",
    "    \"Very High (>100)\": (society_counts > 100).sum(),\n",
    "    \"High (50-100)\": ((society_counts >= 50) & (society_counts <= 100)).sum(),\n",
    "    \"Average (10-49)\": ((society_counts >= 10) & (society_counts < 50)).sum(),\n",
    "    \"Low (2-9)\": ((society_counts > 1) & (society_counts < 10)).sum(),\n",
    "    \"Very Low (1)\": (society_counts == 1).sum()\n",
    "}\n",
    "frequency_bins"
   ]
  },
  {
   "cell_type": "code",
   "execution_count": 15,
   "id": "2f2b504e-c9a4-443c-98cd-0059267e8124",
   "metadata": {},
   "outputs": [
    {
     "data": {
      "text/plain": [
       "<Axes: xlabel='society'>"
      ]
     },
     "execution_count": 15,
     "metadata": {},
     "output_type": "execute_result"
    },
    {
     "data": {
      "image/png": "[encoded data removed]",
      "text/plain": [
       "<Figure size 640x480 with 1 Axes>"
      ]
     },
     "metadata": {},
     "output_type": "display_data"
    }
   ],
   "source": [
    "# top 10 socities\n",
    "df[df['society'] != 'independent']['society'].value_counts().head(10).plot(kind='bar')"
   ]
  },
  {
   "cell_type": "code",
   "execution_count": 16,
   "id": "f954199e-4fca-4a46-b364-d00ae4e295b8",
   "metadata": {},
   "outputs": [
    {
     "data": {
      "text/plain": [
       "1"
      ]
     },
     "execution_count": 16,
     "metadata": {},
     "output_type": "execute_result"
    }
   ],
   "source": [
    "df['society'].isnull().sum()"
   ]
  },
  {
   "cell_type": "code",
   "execution_count": 17,
   "id": "09f185cc-2f91-43a8-b9ed-8dd8a99e4dc5",
   "metadata": {},
   "outputs": [
    {
     "data": {
      "text/html": [
       "<div>\n",
       "<style scoped>\n",
       "    .dataframe tbody tr th:only-of-type {\n",
       "        vertical-align: middle;\n",
       "    }\n",
       "\n",
       "    .dataframe tbody tr th {\n",
       "        vertical-align: top;\n",
       "    }\n",
       "\n",
       "    .dataframe thead th {\n",
       "        text-align: right;\n",
       "    }\n",
       "</style>\n",
       "<table border=\"1\" class=\"dataframe\">\n",
       "  <thead>\n",
       "    <tr style=\"text-align: right;\">\n",
       "      <th></th>\n",
       "      <th>society</th>\n",
       "      <th>property_type</th>\n",
       "      <th>price</th>\n",
       "      <th>price_per_sqft</th>\n",
       "      <th>areaWithType</th>\n",
       "      <th>area</th>\n",
       "      <th>bedRoom</th>\n",
       "      <th>bathroom</th>\n",
       "      <th>balcony</th>\n",
       "      <th>floorNum</th>\n",
       "      <th>...</th>\n",
       "      <th>super_built_up_area</th>\n",
       "      <th>built_up_area</th>\n",
       "      <th>carpet_area</th>\n",
       "      <th>study room</th>\n",
       "      <th>servant room</th>\n",
       "      <th>store room</th>\n",
       "      <th>pooja room</th>\n",
       "      <th>others</th>\n",
       "      <th>furnishing_type</th>\n",
       "      <th>luxury_score</th>\n",
       "    </tr>\n",
       "  </thead>\n",
       "  <tbody>\n",
       "    <tr>\n",
       "      <th>496</th>\n",
       "      <td>NaN</td>\n",
       "      <td>flat</td>\n",
       "      <td>0.6</td>\n",
       "      <td>3692.0</td>\n",
       "      <td>Built Up area: 1625 (150.97 sq.m.)</td>\n",
       "      <td>1625.0</td>\n",
       "      <td>2</td>\n",
       "      <td>2</td>\n",
       "      <td>0</td>\n",
       "      <td>NaN</td>\n",
       "      <td>...</td>\n",
       "      <td>NaN</td>\n",
       "      <td>1625.0</td>\n",
       "      <td>NaN</td>\n",
       "      <td>0</td>\n",
       "      <td>0</td>\n",
       "      <td>0</td>\n",
       "      <td>0</td>\n",
       "      <td>0</td>\n",
       "      <td>0</td>\n",
       "      <td>0</td>\n",
       "    </tr>\n",
       "  </tbody>\n",
       "</table>\n",
       "<p>1 rows × 24 columns</p>\n",
       "</div>"
      ],
      "text/plain": [
       "    society property_type  price  price_per_sqft  \\\n",
       "496     NaN          flat    0.6          3692.0   \n",
       "\n",
       "                           areaWithType    area  bedRoom  bathroom balcony  \\\n",
       "496  Built Up area: 1625 (150.97 sq.m.)  1625.0        2         2       0   \n",
       "\n",
       "     floorNum  ... super_built_up_area built_up_area carpet_area study room  \\\n",
       "496       NaN  ...                 NaN        1625.0         NaN          0   \n",
       "\n",
       "     servant room  store room  pooja room  others  furnishing_type  \\\n",
       "496             0           0           0       0                0   \n",
       "\n",
       "     luxury_score  \n",
       "496             0  \n",
       "\n",
       "[1 rows x 24 columns]"
      ]
     },
     "execution_count": 17,
     "metadata": {},
     "output_type": "execute_result"
    }
   ],
   "source": [
    "df[df['society'].isnull()]"
   ]
  },
  {
   "cell_type": "markdown",
   "id": "003664b0-6c40-4ee5-841d-d1b113cc0747",
   "metadata": {},
   "source": [
    "Observations\n",
    "    Around 13% properties comes under independent tag.\n",
    "    There are 675 societies.\n",
    "\n",
    "The top 75 societies have 50 percent of the preperties and the rest 50 percent of the properties come under the remaining 600 societies\n",
    "    Very High (>100): Only 1 society has more than 100 listings.\n",
    "    High (50-100): 2 societies have between 50 to 100 listings.\n",
    "    Average (10-49): 92 societies fall in this range with 10 to 49 listings each.\n",
    "    Low (2-9): 273 societies have between 2 to 9 listings.\n",
    "    Very Low (1): A significant number, 308 societies, have only 1 listing.\n",
    "1 missing value"
   ]
  },
  {
   "cell_type": "markdown",
   "id": "19a14385-2872-4ac1-98aa-6643dfc75712",
   "metadata": {},
   "source": [
    "# sector"
   ]
  },
  {
   "cell_type": "code",
   "execution_count": 18,
   "id": "1d4dc865-add2-402a-8ccc-9172f314e90e",
   "metadata": {},
   "outputs": [
    {
     "data": {
      "text/plain": [
       "(108,)"
      ]
     },
     "execution_count": 18,
     "metadata": {},
     "output_type": "execute_result"
    }
   ],
   "source": [
    "# unique sectors\n",
    "df['sector'].value_counts().shape"
   ]
  },
  {
   "cell_type": "code",
   "execution_count": 19,
   "id": "606dd373-c8a4-4ee8-a638-86ecf07252ad",
   "metadata": {},
   "outputs": [
    {
     "data": {
      "text/plain": [
       "<Axes: xlabel='sector'>"
      ]
     },
     "execution_count": 19,
     "metadata": {},
     "output_type": "execute_result"
    },
    {
     "data": {
      "image/png": "[encoded data removed]",
      "text/plain": [
       "<Figure size 640x480 with 1 Axes>"
      ]
     },
     "metadata": {},
     "output_type": "display_data"
    }
   ],
   "source": [
    "# top 10 sectors\n",
    "df['sector'].value_counts().head(10).plot(kind='bar')"
   ]
  },
  {
   "cell_type": "code",
   "execution_count": 20,
   "id": "fb86d252-703b-43c6-a01f-f6f98ea5a140",
   "metadata": {},
   "outputs": [
    {
     "data": {
      "text/plain": [
       "{'Very High (>100)': 3,\n",
       " 'High (50-100)': 22,\n",
       " 'Average (10-49)': 62,\n",
       " 'Low (2-9)': 21,\n",
       " 'Very Low (1)': 0}"
      ]
     },
     "execution_count": 20,
     "metadata": {},
     "output_type": "execute_result"
    }
   ],
   "source": [
    "# Frequency distribution for sectors\n",
    "sector_counts = df['sector'].value_counts()\n",
    "\n",
    "sector_frequency_bins = {\n",
    "    \"Very High (>100)\": (sector_counts > 100).sum(),\n",
    "    \"High (50-100)\": ((sector_counts >= 50) & (sector_counts <= 100)).sum(),\n",
    "    \"Average (10-49)\": ((sector_counts >= 10) & (sector_counts < 50)).sum(),\n",
    "    \"Low (2-9)\": ((sector_counts > 1) & (sector_counts < 10)).sum(),\n",
    "    \"Very Low (1)\": (sector_counts == 1).sum()\n",
    "}\n",
    "\n",
    "sector_frequency_bins"
   ]
  },
  {
   "cell_type": "markdown",
   "id": "cc949c76-a5a7-48be-b257-c5e06b1d865a",
   "metadata": {},
   "source": [
    "Observations\n",
    "    There are a total of 104 unique sectors in the dataset.\n",
    "Frequency distribution of sectors:\n",
    "    Very High (>100): 3 sectors have more than 100 listings.\n",
    "    High (50-100): 25 sectors have between 50 to 100 listings.\n",
    "    Average (10-49): A majority, 60 sectors, fall in this range with 10 to 49 listings each.\n",
    "    Low (2-9): 16 sectors have between 2 to 9 listings.\n",
    "    Very Low (1): Interestingly, there are no sectors with only 1 listing."
   ]
  },
  {
   "cell_type": "markdown",
   "id": "47739bbd-b3b6-4f81-a8b3-5ba6a4a8755e",
   "metadata": {},
   "source": [
    "# Price"
   ]
  },
  {
   "cell_type": "code",
   "execution_count": 28,
   "id": "e7fd4d18-ca30-416e-87b3-2ab877a90f1a",
   "metadata": {},
   "outputs": [
    {
     "data": {
      "text/plain": [
       "17"
      ]
     },
     "execution_count": 28,
     "metadata": {},
     "output_type": "execute_result"
    }
   ],
   "source": [
    "df['price'].isnull().sum()"
   ]
  },
  {
   "cell_type": "code",
   "execution_count": 36,
   "id": "764f6804-c72d-4601-a753-6eafb5f492e7",
   "metadata": {},
   "outputs": [
    {
     "data": {
      "text/plain": [
       "count    3360.000000\n",
       "mean        2.634509\n",
       "std         3.067394\n",
       "min         0.070000\n",
       "25%         0.990000\n",
       "50%         1.600000\n",
       "75%         2.862500\n",
       "max        31.500000\n",
       "Name: price, dtype: float64"
      ]
     },
     "execution_count": 36,
     "metadata": {},
     "output_type": "execute_result"
    }
   ],
   "source": [
    "df['price'].describe()"
   ]
  },
  {
   "cell_type": "code",
   "execution_count": 37,
   "id": "94d96f92-d7b0-4898-a154-e467d7a9ec0c",
   "metadata": {},
   "outputs": [
    {
     "data": {
      "text/plain": [
       "<Axes: xlabel='price', ylabel='Count'>"
      ]
     },
     "execution_count": 37,
     "metadata": {},
     "output_type": "execute_result"
    },
    {
     "data": {
      "image/png": "[encoded data removed]",
      "text/plain": [
       "<Figure size 640x480 with 1 Axes>"
      ]
     },
     "metadata": {},
     "output_type": "display_data"
    }
   ],
   "source": [
    "sns.histplot(df['price'], kde=True, bins=50)"
   ]
  },
  {
   "cell_type": "code",
   "execution_count": 38,
   "id": "1761287b-5b5b-4d16-bba6-ab58184bd953",
   "metadata": {},
   "outputs": [
    {
     "data": {
      "image/png": "[encoded data removed]",
      "text/plain": [
       "<Figure size 640x480 with 1 Axes>"
      ]
     },
     "metadata": {},
     "output_type": "display_data"
    }
   ],
   "source": [
    "sns.boxplot(x=df['price'], color='lightgreen')\n",
    "plt.grid()"
   ]
  },
  {
   "cell_type": "markdown",
   "id": "7c0beb79-5943-4320-adf2-f0174bd0dc5c",
   "metadata": {},
   "source": [
    "    Descriptive Statistics:\n",
    "    \n",
    "        Count: There are 3,660 non-missing price entries.\n",
    "        Mean Price: The average price is approximately 2.53 crores.\n",
    "    Median Price: The median (or 50th percentile) price is 1.52 crores.\n",
    "    Standard Deviation: The prices have a standard deviation of 2.98, indicating variability in the prices.\n",
    "    Range: Prices range from a minimum of 0.07 crores to a maximum of 31.5 crores.\n",
    "    IQR: The interquartile range (difference between 75th and 25th percentile) is from 0.95 crores to 2.75 crores.\n",
    "    Visualizations:\n",
    "    \n",
    "    Distribution: The histogram indicates that most properties are priced in the lower range (below 5 crores), with a few properties going beyond 10 crores.\n",
    "    Box Plot: The box plot showcases the spread of the data and potential outliers. Properties priced above approximately 10 crores might be considered outliers as they lie beyond the upper whisker of the box plot.\n",
    "    Missing Values: There are 17 missing values in the price column."
   ]
  },
  {
   "cell_type": "code",
   "execution_count": 39,
   "id": "0dd40a3c-a7fd-4632-b13c-9c6de1459eac",
   "metadata": {},
   "outputs": [
    {
     "name": "stdout",
     "output_type": "stream",
     "text": [
      "3.208473685629061 14.078754962977643\n"
     ]
    }
   ],
   "source": [
    "# Skewness and Kurtosis\n",
    "skewness = df['price'].skew()\n",
    "kurtosis = df['price'].kurt()\n",
    "\n",
    "print(skewness,kurtosis)"
   ]
  },
  {
   "cell_type": "markdown",
   "id": "78409a85-9a55-4a10-898b-c9d842de61db",
   "metadata": {},
   "source": [
    "    Skewness: The price distribution has a skewness of approximately 3.28, indicating a positive skew. This means that the distribution tail is skewed to the right, which aligns with our observation from the histogram where most properties have prices on the lower end with a few high-priced properties.\n",
    "    \n",
    "    Kurtosis: The kurtosis value is approximately 14.93. A kurtosis value greater than 3 indicates a distribution with heavier tails and more outliers compared to a normal distribution."
   ]
  },
  {
   "cell_type": "code",
   "execution_count": 40,
   "id": "9a219bb9-040f-44c7-98bb-c3db569e0719",
   "metadata": {},
   "outputs": [
    {
     "data": {
      "text/plain": [
       "0.01     0.27\n",
       "0.05     0.41\n",
       "0.95     9.00\n",
       "0.99    16.00\n",
       "Name: price, dtype: float64"
      ]
     },
     "execution_count": 40,
     "metadata": {},
     "output_type": "execute_result"
    }
   ],
   "source": [
    "# Quantile Analysis\n",
    "quantiles = df['price'].quantile([0.01, 0.05, 0.95, 0.99])\n",
    "\n",
    "quantiles"
   ]
  },
  {
   "cell_type": "markdown",
   "id": "ca0bd84a-c0d3-4d10-86b7-975a781c6328",
   "metadata": {},
   "source": [
    "    Quantile Analysis:\n",
    "    \n",
    "    1% Quantile: Only 1% of properties are priced below 0.25 crores.\n",
    "    5% Quantile: 5% of properties are priced below 0.37 crores.\n",
    "    95% Quantile: 95% of properties are priced below 8.5 crores.\n",
    "    99% Quantile: 99% of properties are priced below 15.26 crores, indicating that very few properties are priced above this value."
   ]
  },
  {
   "cell_type": "code",
   "execution_count": 41,
   "id": "9c96e38a-924b-4572-8dc5-23ea80bb15fe",
   "metadata": {},
   "outputs": [
    {
     "data": {
      "text/plain": [
       "1.8724999999999998"
      ]
     },
     "execution_count": 41,
     "metadata": {},
     "output_type": "execute_result"
    }
   ],
   "source": [
    "# Identify potential outliers using IQR method\n",
    "Q1 = df['price'].describe()['25%']\n",
    "Q3 = df['price'].describe()['75%']\n",
    "IQR = Q3 - Q1\n",
    "\n",
    "IQR"
   ]
  },
  {
   "cell_type": "code",
   "execution_count": 42,
   "id": "57582b3a-602b-4d58-a3d8-7d57126003d7",
   "metadata": {},
   "outputs": [
    {
     "name": "stdout",
     "output_type": "stream",
     "text": [
      "-1.8187499999999999 5.67125\n"
     ]
    }
   ],
   "source": [
    "lower_bound = Q1 - 1.5 * IQR\n",
    "upper_bound = Q3 + 1.5 * IQR\n",
    "\n",
    "print(lower_bound, upper_bound)"
   ]
  },
  {
   "cell_type": "code",
   "execution_count": 43,
   "id": "19075d8c-48d0-4556-b894-c75f021d64c4",
   "metadata": {},
   "outputs": [
    {
     "data": {
      "text/plain": [
       "(376, 24)"
      ]
     },
     "execution_count": 43,
     "metadata": {},
     "output_type": "execute_result"
    }
   ],
   "source": [
    "outliers = df[(df['price'] < lower_bound) | (df['price'] > upper_bound)]\n",
    "outliers.shape"
   ]
  },
  {
   "cell_type": "code",
   "execution_count": 44,
   "id": "8781d4cc-5609-48fb-9f0d-2d489de86af0",
   "metadata": {},
   "outputs": [
    {
     "data": {
      "text/plain": [
       "count    376.000000\n",
       "mean       9.705559\n",
       "std        4.125436\n",
       "min        5.700000\n",
       "25%        6.750000\n",
       "50%        8.500000\n",
       "75%       11.000000\n",
       "max       31.500000\n",
       "Name: price, dtype: float64"
      ]
     },
     "execution_count": 44,
     "metadata": {},
     "output_type": "execute_result"
    }
   ],
   "source": [
    "outliers['price'].describe()"
   ]
  },
  {
   "cell_type": "code",
   "execution_count": null,
   "id": "d730a9a9-d391-479e-8a60-515b3de55309",
   "metadata": {},
   "outputs": [],
   "source": []
  },
  {
   "cell_type": "code",
   "execution_count": null,
   "id": "2f967e23-d972-4e4b-91c3-44be73bd689c",
   "metadata": {},
   "outputs": [],
   "source": []
  },
  {
   "cell_type": "code",
   "execution_count": null,
   "id": "a612a8f7-203e-420a-a3dc-50561253b624",
   "metadata": {},
   "outputs": [],
   "source": []
  },
  {
   "cell_type": "code",
   "execution_count": null,
   "id": "5f3202b6-2f4d-4b7a-9e81-c78a8c930ca2",
   "metadata": {},
   "outputs": [],
   "source": []
  },
  {
   "cell_type": "code",
   "execution_count": null,
   "id": "8255eb9f-9804-4f90-915b-ff33b2627827",
   "metadata": {},
   "outputs": [],
   "source": []
  },
  {
   "cell_type": "code",
   "execution_count": null,
   "id": "1be81c8d-d245-4b61-9d2c-e188636836cc",
   "metadata": {},
   "outputs": [],
   "source": []
  },
  {
   "cell_type": "code",
   "execution_count": null,
   "id": "0b28682d-05c5-40e4-acc5-0a69cea75791",
   "metadata": {},
   "outputs": [],
   "source": []
  },
  {
   "cell_type": "code",
   "execution_count": null,
   "id": "d979b4ca-00cd-47c3-80b9-97d782ba4d1c",
   "metadata": {},
   "outputs": [],
   "source": []
  },
  {
   "cell_type": "code",
   "execution_count": null,
   "id": "52918da5-7c98-4101-a385-ff8cb9fa90c3",
   "metadata": {},
   "outputs": [],
   "source": []
  },
  {
   "cell_type": "code",
   "execution_count": null,
   "id": "cb827934-0534-4261-ab02-f4257ed222b6",
   "metadata": {},
   "outputs": [],
   "source": []
  },
  {
   "cell_type": "code",
   "execution_count": null,
   "id": "c2ee0004-09a4-45c4-9a41-8da2007b10f9",
   "metadata": {},
   "outputs": [],
   "source": []
  },
  {
   "cell_type": "code",
   "execution_count": null,
   "id": "6615b5b5-4600-49d2-9f48-a3ad3ec2efb3",
   "metadata": {},
   "outputs": [],
   "source": []
  },
  {
   "cell_type": "code",
   "execution_count": null,
   "id": "5c04e44e-37e0-417e-95d1-8ccbcf3a5e84",
   "metadata": {},
   "outputs": [],
   "source": []
  },
  {
   "cell_type": "code",
   "execution_count": null,
   "id": "ed34d1d2-6b35-46cd-9c72-0b70648215d9",
   "metadata": {},
   "outputs": [],
   "source": []
  },
  {
   "cell_type": "code",
   "execution_count": null,
   "id": "70d90a9c-cb38-4885-8ba6-f9cb92185fbd",
   "metadata": {},
   "outputs": [],
   "source": []
  },
  {
   "cell_type": "code",
   "execution_count": null,
   "id": "be10e328-ee5b-46ee-9174-0b79d4d68b1f",
   "metadata": {},
   "outputs": [],
   "source": []
  },
  {
   "cell_type": "code",
   "execution_count": null,
   "id": "9221d79a-3f1a-4fdc-bbb5-cd653d674b67",
   "metadata": {},
   "outputs": [],
   "source": []
  },
  {
   "cell_type": "code",
   "execution_count": null,
   "id": "509a4efb-6344-4448-92e0-41951c1fa64b",
   "metadata": {},
   "outputs": [],
   "source": []
  },
  {
   "cell_type": "code",
   "execution_count": null,
   "id": "9514e96b-7d71-46eb-bf68-7497cbdf9522",
   "metadata": {},
   "outputs": [],
   "source": []
  },
  {
   "cell_type": "code",
   "execution_count": null,
   "id": "8889ad0e-2479-4e7a-b616-61e1c5fa8ee9",
   "metadata": {},
   "outputs": [],
   "source": []
  },
  {
   "cell_type": "code",
   "execution_count": null,
   "id": "50d6be9e-1431-465e-9de9-c815c62c11c5",
   "metadata": {},
   "outputs": [],
   "source": []
  },
  {
   "cell_type": "code",
   "execution_count": null,
   "id": "132523e6-4034-4bbf-9a6b-7f8ef89bbf92",
   "metadata": {},
   "outputs": [],
   "source": []
  },
  {
   "cell_type": "code",
   "execution_count": null,
   "id": "ef28e65f-eb25-4fa6-b89e-0cd58db89988",
   "metadata": {},
   "outputs": [],
   "source": []
  },
  {
   "cell_type": "code",
   "execution_count": null,
   "id": "7b0df591-4d11-4a0a-8aa3-899a0e425e2d",
   "metadata": {},
   "outputs": [],
   "source": []
  },
  {
   "cell_type": "code",
   "execution_count": null,
   "id": "7f68d46c-0882-4571-98a1-93cad85f4491",
   "metadata": {},
   "outputs": [],
   "source": []
  },
  {
   "cell_type": "code",
   "execution_count": null,
   "id": "5d9d3008-ef07-4578-8534-6c35d4da95c9",
   "metadata": {},
   "outputs": [],
   "source": []
  },
  {
   "cell_type": "code",
   "execution_count": null,
   "id": "6f096759-e7ec-4cfb-a2c1-d5008973c058",
   "metadata": {},
   "outputs": [],
   "source": []
  },
  {
   "cell_type": "code",
   "execution_count": null,
   "id": "97e9bd44-3b3b-4ac2-912e-d0ad96588636",
   "metadata": {},
   "outputs": [],
   "source": []
  },
  {
   "cell_type": "code",
   "execution_count": null,
   "id": "1128743d-7fb7-4a0d-9fff-2978c2ad3b76",
   "metadata": {},
   "outputs": [],
   "source": []
  },
  {
   "cell_type": "code",
   "execution_count": null,
   "id": "9a495a95-7f87-4967-a212-7a122e8a3fa7",
   "metadata": {},
   "outputs": [],
   "source": []
  },
  {
   "cell_type": "code",
   "execution_count": null,
   "id": "192e6a97-38ae-4ba9-851a-4bb9dd65fe40",
   "metadata": {},
   "outputs": [],
   "source": []
  },
  {
   "cell_type": "code",
   "execution_count": null,
   "id": "2fba6528-31bd-43b0-b57c-60366326f78d",
   "metadata": {},
   "outputs": [],
   "source": []
  },
  {
   "cell_type": "code",
   "execution_count": null,
   "id": "e02e93b4-a20b-4709-bd03-97dc2c29d370",
   "metadata": {},
   "outputs": [],
   "source": []
  },
  {
   "cell_type": "code",
   "execution_count": null,
   "id": "2482dd03-2ef2-4867-abf0-0831df4340d6",
   "metadata": {},
   "outputs": [],
   "source": []
  },
  {
   "cell_type": "code",
   "execution_count": null,
   "id": "2329c01a-9c6f-4416-8176-69f6e80a7622",
   "metadata": {},
   "outputs": [],
   "source": []
  },
  {
   "cell_type": "code",
   "execution_count": null,
   "id": "6644fc3d-b1a8-4e3e-98fa-15a30b90a4dc",
   "metadata": {},
   "outputs": [],
   "source": []
  },
  {
   "cell_type": "code",
   "execution_count": null,
   "id": "5a9d5b28-e8e8-4cb0-ab21-66232bd8850f",
   "metadata": {},
   "outputs": [],
   "source": []
  },
  {
   "cell_type": "code",
   "execution_count": null,
   "id": "86d8e75a-dcbd-4ab5-b789-e27a3d422d38",
   "metadata": {},
   "outputs": [],
   "source": []
  },
  {
   "cell_type": "code",
   "execution_count": null,
   "id": "de41bcc6-bbb1-4130-8330-b8460a457f84",
   "metadata": {},
   "outputs": [],
   "source": []
  },
  {
   "cell_type": "code",
   "execution_count": null,
   "id": "da0c9e3f-f96d-4ed0-9f28-7552744685c4",
   "metadata": {},
   "outputs": [],
   "source": []
  },
  {
   "cell_type": "code",
   "execution_count": null,
   "id": "ba15c11b-f955-414d-95f9-49db89ee96e2",
   "metadata": {},
   "outputs": [],
   "source": []
  },
  {
   "cell_type": "code",
   "execution_count": null,
   "id": "aab7384a-1783-4e7b-9da3-cd0dd4498bb0",
   "metadata": {},
   "outputs": [],
   "source": []
  },
  {
   "cell_type": "code",
   "execution_count": null,
   "id": "0afd5e63-558f-428f-886c-19a9fbf77cdb",
   "metadata": {},
   "outputs": [],
   "source": []
  },
  {
   "cell_type": "code",
   "execution_count": null,
   "id": "75350e1b-0e7a-4fc6-a0bc-e230bb2574e8",
   "metadata": {},
   "outputs": [],
   "source": []
  },
  {
   "cell_type": "code",
   "execution_count": null,
   "id": "85d44817-aec6-42fe-b93d-17c3b680ad03",
   "metadata": {},
   "outputs": [],
   "source": []
  },
  {
   "cell_type": "code",
   "execution_count": null,
   "id": "abb068f6-5d8a-4dca-ae45-621b2ba6e15e",
   "metadata": {},
   "outputs": [],
   "source": []
  },
  {
   "cell_type": "code",
   "execution_count": null,
   "id": "a38d15d3-5ea5-4207-8a48-1a2ce187da35",
   "metadata": {},
   "outputs": [],
   "source": []
  },
  {
   "cell_type": "code",
   "execution_count": null,
   "id": "3f524c36-5cd8-43ad-96ed-279c8445ac94",
   "metadata": {},
   "outputs": [],
   "source": []
  },
  {
   "cell_type": "code",
   "execution_count": null,
   "id": "5048ecf7-b7ea-456b-9af1-44f7db1684b7",
   "metadata": {},
   "outputs": [],
   "source": []
  },
  {
   "cell_type": "code",
   "execution_count": null,
   "id": "621da8d3-8855-4946-89b5-76629770bcaa",
   "metadata": {},
   "outputs": [],
   "source": []
  }
 ],
 "metadata": {
  "kernelspec": {
   "display_name": "Python 3 (ipykernel)",
   "language": "python",
   "name": "python3"
  },
  "language_info": {
   "codemirror_mode": {
    "name": "ipython",
    "version": 3
   },
   "file_extension": ".py",
   "mimetype": "text/x-python",
   "name": "python",
   "nbconvert_exporter": "python",
   "pygments_lexer": "ipython3",
   "version": "3.12.3"
  }
 },
 "nbformat": 4,
 "nbformat_minor": 5
}
