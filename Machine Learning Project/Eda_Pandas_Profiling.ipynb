{
 "cells": [
  {
   "cell_type": "code",
   "execution_count": null,
   "id": "6e030f5c",
   "metadata": {},
   "outputs": [
    {
     "data": {
      "application/vnd.jupyter.widget-view+json": {
       "model_id": "07457a53a92a4f4fa660acabc3fa33ae",
       "version_major": 2,
       "version_minor": 0
      },
      "text/plain": [
       "Summarize dataset:   0%|          | 0/5 [00:00<?, ?it/s]"
      ]
     },
     "metadata": {},
     "output_type": "display_data"
    }
   ],
   "source": [
    "import pandas as pd\n",
    "from ydata_profiling import ProfileReport\n",
    "\n",
    "# Load your dataset\n",
    "df = pd.read_csv('C:/Users/SONY/Machine_Learning_Project/Processed_Data/gurgaon_properties_cleaned_v2.csv').drop_duplicates()\n",
    "\n",
    "# Create the ProfileReport object\n",
    "profile = ProfileReport(df, title='Pandas Profiling Report', explorative=True)\n",
    "\n",
    "# Generate the report\n",
    "profile.to_file(\"C:/Users/SONY/Machine_Learning_Project/Processed_Data/output_report.html\")"
   ]
  },
  {
   "cell_type": "code",
   "execution_count": 7,
   "id": "b062d7b7-bacd-4a35-9920-144c6e94685b",
   "metadata": {},
   "outputs": [],
   "source": [
    "# !pip install joblib>=1.2.0"
   ]
  },
  {
   "cell_type": "code",
   "execution_count": 8,
   "id": "9d636878-4961-44f8-80e9-895e5fcdf27e",
   "metadata": {},
   "outputs": [],
   "source": [
    "# !pip install pydantic>=2"
   ]
  },
  {
   "cell_type": "code",
   "execution_count": 14,
   "id": "bd076212",
   "metadata": {},
   "outputs": [
    {
     "name": "stdout",
     "output_type": "stream",
     "text": [
      "Requirement already satisfied: ydata-profiling in c:\\users\\sony\\anaconda3\\lib\\site-packages (4.9.0)\n",
      "Collecting scipy<1.14,>=1.4.1 (from ydata-profiling)\n",
      "  Downloading scipy-1.13.1-cp312-cp312-win_amd64.whl.metadata (60 kB)\n",
      "Requirement already satisfied: pandas!=1.4.0,<3,>1.1 in c:\\users\\sony\\anaconda3\\lib\\site-packages (from ydata-profiling) (2.2.2)\n",
      "Requirement already satisfied: matplotlib<3.10,>=3.5 in c:\\users\\sony\\anaconda3\\lib\\site-packages (from ydata-profiling) (3.8.4)\n",
      "Collecting pydantic>=2 (from ydata-profiling)\n",
      "  Downloading pydantic-2.9.1-py3-none-any.whl.metadata (146 kB)\n",
      "Requirement already satisfied: PyYAML<6.1,>=5.0.0 in c:\\users\\sony\\anaconda3\\lib\\site-packages (from ydata-profiling) (6.0.1)\n",
      "Requirement already satisfied: jinja2<3.2,>=2.11.1 in c:\\users\\sony\\anaconda3\\lib\\site-packages (from ydata-profiling) (3.1.4)\n",
      "Collecting visions<0.7.7,>=0.7.5 (from visions[type_image_path]<0.7.7,>=0.7.5->ydata-profiling)\n",
      "  Downloading visions-0.7.6-py3-none-any.whl.metadata (11 kB)\n",
      "Requirement already satisfied: numpy<2,>=1.16.0 in c:\\users\\sony\\anaconda3\\lib\\site-packages (from ydata-profiling) (1.26.4)\n",
      "Requirement already satisfied: htmlmin==0.1.12 in c:\\users\\sony\\anaconda3\\lib\\site-packages (from ydata-profiling) (0.1.12)\n",
      "Requirement already satisfied: phik<0.13,>=0.11.1 in c:\\users\\sony\\anaconda3\\lib\\site-packages (from ydata-profiling) (0.12.4)\n",
      "Requirement already satisfied: requests<3,>=2.24.0 in c:\\users\\sony\\anaconda3\\lib\\site-packages (from ydata-profiling) (2.32.2)\n",
      "Requirement already satisfied: tqdm<5,>=4.48.2 in c:\\users\\sony\\anaconda3\\lib\\site-packages (from ydata-profiling) (4.66.4)\n",
      "Requirement already satisfied: seaborn<0.14,>=0.10.1 in c:\\users\\sony\\anaconda3\\lib\\site-packages (from ydata-profiling) (0.13.2)\n",
      "Requirement already satisfied: multimethod<2,>=1.4 in c:\\users\\sony\\anaconda3\\lib\\site-packages (from ydata-profiling) (1.12)\n",
      "Requirement already satisfied: statsmodels<1,>=0.13.2 in c:\\users\\sony\\anaconda3\\lib\\site-packages (from ydata-profiling) (0.14.2)\n",
      "Requirement already satisfied: typeguard<5,>=3 in c:\\users\\sony\\anaconda3\\lib\\site-packages (from ydata-profiling) (4.3.0)\n",
      "Requirement already satisfied: imagehash==4.3.1 in c:\\users\\sony\\anaconda3\\lib\\site-packages (from ydata-profiling) (4.3.1)\n",
      "Requirement already satisfied: wordcloud>=1.9.1 in c:\\users\\sony\\anaconda3\\lib\\site-packages (from ydata-profiling) (1.9.3)\n",
      "Requirement already satisfied: dacite>=1.8 in c:\\users\\sony\\anaconda3\\lib\\site-packages (from ydata-profiling) (1.8.1)\n",
      "Requirement already satisfied: numba<1,>=0.56.0 in c:\\users\\sony\\anaconda3\\lib\\site-packages (from ydata-profiling) (0.60.0)\n",
      "Requirement already satisfied: PyWavelets in c:\\users\\sony\\anaconda3\\lib\\site-packages (from imagehash==4.3.1->ydata-profiling) (1.5.0)\n",
      "Requirement already satisfied: pillow in c:\\users\\sony\\anaconda3\\lib\\site-packages (from imagehash==4.3.1->ydata-profiling) (10.3.0)\n",
      "Requirement already satisfied: MarkupSafe>=2.0 in c:\\users\\sony\\anaconda3\\lib\\site-packages (from jinja2<3.2,>=2.11.1->ydata-profiling) (2.1.3)\n",
      "Requirement already satisfied: contourpy>=1.0.1 in c:\\users\\sony\\anaconda3\\lib\\site-packages (from matplotlib<3.10,>=3.5->ydata-profiling) (1.2.0)\n",
      "Requirement already satisfied: cycler>=0.10 in c:\\users\\sony\\anaconda3\\lib\\site-packages (from matplotlib<3.10,>=3.5->ydata-profiling) (0.11.0)\n",
      "Requirement already satisfied: fonttools>=4.22.0 in c:\\users\\sony\\anaconda3\\lib\\site-packages (from matplotlib<3.10,>=3.5->ydata-profiling) (4.51.0)\n",
      "Requirement already satisfied: kiwisolver>=1.3.1 in c:\\users\\sony\\anaconda3\\lib\\site-packages (from matplotlib<3.10,>=3.5->ydata-profiling) (1.4.4)\n",
      "Requirement already satisfied: packaging>=20.0 in c:\\users\\sony\\anaconda3\\lib\\site-packages (from matplotlib<3.10,>=3.5->ydata-profiling) (23.2)\n",
      "Requirement already satisfied: pyparsing>=2.3.1 in c:\\users\\sony\\anaconda3\\lib\\site-packages (from matplotlib<3.10,>=3.5->ydata-profiling) (3.0.9)\n",
      "Requirement already satisfied: python-dateutil>=2.7 in c:\\users\\sony\\anaconda3\\lib\\site-packages (from matplotlib<3.10,>=3.5->ydata-profiling) (2.9.0.post0)\n",
      "Requirement already satisfied: llvmlite<0.44,>=0.43.0dev0 in c:\\users\\sony\\anaconda3\\lib\\site-packages (from numba<1,>=0.56.0->ydata-profiling) (0.43.0)\n",
      "Requirement already satisfied: pytz>=2020.1 in c:\\users\\sony\\anaconda3\\lib\\site-packages (from pandas!=1.4.0,<3,>1.1->ydata-profiling) (2024.1)\n",
      "Requirement already satisfied: tzdata>=2022.7 in c:\\users\\sony\\anaconda3\\lib\\site-packages (from pandas!=1.4.0,<3,>1.1->ydata-profiling) (2023.3)\n",
      "Requirement already satisfied: joblib>=0.14.1 in c:\\users\\sony\\anaconda3\\lib\\site-packages (from phik<0.13,>=0.11.1->ydata-profiling) (1.1.1)\n",
      "Requirement already satisfied: annotated-types>=0.6.0 in c:\\users\\sony\\anaconda3\\lib\\site-packages (from pydantic>=2->ydata-profiling) (0.6.0)\n",
      "Collecting pydantic-core==2.23.3 (from pydantic>=2->ydata-profiling)\n",
      "  Downloading pydantic_core-2.23.3-cp312-none-win_amd64.whl.metadata (6.7 kB)\n",
      "Requirement already satisfied: typing-extensions>=4.6.1 in c:\\users\\sony\\anaconda3\\lib\\site-packages (from pydantic>=2->ydata-profiling) (4.11.0)\n",
      "Requirement already satisfied: charset-normalizer<4,>=2 in c:\\users\\sony\\anaconda3\\lib\\site-packages (from requests<3,>=2.24.0->ydata-profiling) (2.0.4)\n",
      "Requirement already satisfied: idna<4,>=2.5 in c:\\users\\sony\\anaconda3\\lib\\site-packages (from requests<3,>=2.24.0->ydata-profiling) (3.7)\n",
      "Requirement already satisfied: urllib3<3,>=1.21.1 in c:\\users\\sony\\anaconda3\\lib\\site-packages (from requests<3,>=2.24.0->ydata-profiling) (2.2.2)\n",
      "Requirement already satisfied: certifi>=2017.4.17 in c:\\users\\sony\\anaconda3\\lib\\site-packages (from requests<3,>=2.24.0->ydata-profiling) (2024.7.4)\n",
      "Requirement already satisfied: patsy>=0.5.6 in c:\\users\\sony\\anaconda3\\lib\\site-packages (from statsmodels<1,>=0.13.2->ydata-profiling) (0.5.6)\n",
      "Requirement already satisfied: colorama in c:\\users\\sony\\anaconda3\\lib\\site-packages (from tqdm<5,>=4.48.2->ydata-profiling) (0.4.6)\n",
      "Requirement already satisfied: attrs>=19.3.0 in c:\\users\\sony\\anaconda3\\lib\\site-packages (from visions<0.7.7,>=0.7.5->visions[type_image_path]<0.7.7,>=0.7.5->ydata-profiling) (23.1.0)\n",
      "Requirement already satisfied: networkx>=2.4 in c:\\users\\sony\\anaconda3\\lib\\site-packages (from visions<0.7.7,>=0.7.5->visions[type_image_path]<0.7.7,>=0.7.5->ydata-profiling) (3.2.1)\n",
      "Requirement already satisfied: six in c:\\users\\sony\\anaconda3\\lib\\site-packages (from patsy>=0.5.6->statsmodels<1,>=0.13.2->ydata-profiling) (1.16.0)\n",
      "Downloading pydantic-2.9.1-py3-none-any.whl (434 kB)\n",
      "Downloading pydantic_core-2.23.3-cp312-none-win_amd64.whl (1.9 MB)\n",
      "   ---------------------------------------- 0.0/1.9 MB ? eta -:--:--\n",
      "   -------------------------------- ------- 1.6/1.9 MB 6.5 MB/s eta 0:00:01\n",
      "   ---------------------------------------- 1.9/1.9 MB 4.1 MB/s eta 0:00:00\n",
      "Downloading scipy-1.13.1-cp312-cp312-win_amd64.whl (45.9 MB)\n",
      "   ---------------------------------------- 0.0/45.9 MB ? eta -:--:--\n",
      "   - -------------------------------------- 1.3/45.9 MB 6.7 MB/s eta 0:00:07\n",
      "   -- ------------------------------------- 2.9/45.9 MB 6.7 MB/s eta 0:00:07\n",
      "   --- ------------------------------------ 3.9/45.9 MB 6.5 MB/s eta 0:00:07\n",
      "   ---- ----------------------------------- 5.5/45.9 MB 6.4 MB/s eta 0:00:07\n",
      "   ----- ---------------------------------- 6.8/45.9 MB 6.7 MB/s eta 0:00:06\n",
      "   ------ --------------------------------- 7.1/45.9 MB 5.6 MB/s eta 0:00:07\n",
      "   ------ --------------------------------- 7.1/45.9 MB 5.6 MB/s eta 0:00:07\n",
      "   ------ --------------------------------- 7.6/45.9 MB 4.5 MB/s eta 0:00:09\n",
      "   ------- -------------------------------- 9.2/45.9 MB 4.8 MB/s eta 0:00:08\n",
      "   --------- ------------------------------ 10.5/45.9 MB 5.0 MB/s eta 0:00:08\n",
      "   ---------- ----------------------------- 12.3/45.9 MB 5.4 MB/s eta 0:00:07\n",
      "   ------------ --------------------------- 14.4/45.9 MB 5.7 MB/s eta 0:00:06\n",
      "   -------------- ------------------------- 16.3/45.9 MB 5.9 MB/s eta 0:00:06\n",
      "   --------------- ------------------------ 18.1/45.9 MB 6.1 MB/s eta 0:00:05\n",
      "   ----------------- ---------------------- 20.2/45.9 MB 6.3 MB/s eta 0:00:05\n",
      "   ------------------- -------------------- 22.0/45.9 MB 6.5 MB/s eta 0:00:04\n",
      "   -------------------- ------------------- 23.6/45.9 MB 6.5 MB/s eta 0:00:04\n",
      "   --------------------- ------------------ 25.2/45.9 MB 6.6 MB/s eta 0:00:04\n",
      "   ----------------------- ---------------- 27.3/45.9 MB 6.7 MB/s eta 0:00:03\n",
      "   ------------------------- -------------- 29.6/45.9 MB 6.9 MB/s eta 0:00:03\n",
      "   --------------------------- ------------ 31.5/45.9 MB 7.0 MB/s eta 0:00:03\n",
      "   ---------------------------- ----------- 33.0/45.9 MB 7.0 MB/s eta 0:00:02\n",
      "   ------------------------------ --------- 34.6/45.9 MB 7.0 MB/s eta 0:00:02\n",
      "   ------------------------------- -------- 36.7/45.9 MB 7.1 MB/s eta 0:00:02\n",
      "   --------------------------------- ------ 38.8/45.9 MB 7.2 MB/s eta 0:00:01\n",
      "   ----------------------------------- ---- 40.4/45.9 MB 7.3 MB/s eta 0:00:01\n",
      "   ------------------------------------ --- 42.5/45.9 MB 7.3 MB/s eta 0:00:01\n",
      "   -------------------------------------- - 44.0/45.9 MB 7.4 MB/s eta 0:00:01\n",
      "   ---------------------------------------  45.9/45.9 MB 7.4 MB/s eta 0:00:01\n",
      "   ---------------------------------------  45.9/45.9 MB 7.4 MB/s eta 0:00:01\n",
      "   ---------------------------------------  45.9/45.9 MB 7.4 MB/s eta 0:00:01\n",
      "   ---------------------------------------  45.9/45.9 MB 7.4 MB/s eta 0:00:01\n",
      "   ---------------------------------------  45.9/45.9 MB 7.4 MB/s eta 0:00:01\n",
      "   ---------------------------------------  45.9/45.9 MB 7.4 MB/s eta 0:00:01\n",
      "   ---------------------------------------  45.9/45.9 MB 7.4 MB/s eta 0:00:01\n",
      "   ---------------------------------------  45.9/45.9 MB 7.4 MB/s eta 0:00:01\n",
      "   ---------------------------------------  45.9/45.9 MB 7.4 MB/s eta 0:00:01\n",
      "   ---------------------------------------  45.9/45.9 MB 7.4 MB/s eta 0:00:01\n",
      "   ---------------------------------------  45.9/45.9 MB 7.4 MB/s eta 0:00:01\n",
      "   ---------------------------------------  45.9/45.9 MB 7.4 MB/s eta 0:00:01\n",
      "   ---------------------------------------  45.9/45.9 MB 7.4 MB/s eta 0:00:01\n",
      "   ---------------------------------------  45.9/45.9 MB 7.4 MB/s eta 0:00:01\n",
      "   ---------------------------------------  45.9/45.9 MB 7.4 MB/s eta 0:00:01\n",
      "   ---------------------------------------  45.9/45.9 MB 7.4 MB/s eta 0:00:01\n",
      "   ---------------------------------------  45.9/45.9 MB 7.4 MB/s eta 0:00:01\n",
      "   ---------------------------------------  45.9/45.9 MB 7.4 MB/s eta 0:00:01\n",
      "   ---------------------------------------  45.9/45.9 MB 7.4 MB/s eta 0:00:01\n",
      "   ---------------------------------------- 45.9/45.9 MB 4.5 MB/s eta 0:00:00\n",
      "Downloading visions-0.7.6-py3-none-any.whl (104 kB)\n",
      "Installing collected packages: scipy, pydantic-core, pydantic, visions\n",
      "  Attempting uninstall: scipy\n",
      "    Found existing installation: scipy 1.14.0\n",
      "    Uninstalling scipy-1.14.0:\n",
      "      Successfully uninstalled scipy-1.14.0\n",
      "  Attempting uninstall: pydantic-core\n",
      "    Found existing installation: pydantic_core 2.20.1\n",
      "    Uninstalling pydantic_core-2.20.1:\n",
      "      Successfully uninstalled pydantic_core-2.20.1\n",
      "  Attempting uninstall: pydantic\n",
      "    Found existing installation: pydantic 1.10.18\n",
      "    Uninstalling pydantic-1.10.18:\n",
      "      Successfully uninstalled pydantic-1.10.18\n",
      "  Attempting uninstall: visions\n",
      "    Found existing installation: visions 0.7.4\n",
      "    Uninstalling visions-0.7.4:\n",
      "      Successfully uninstalled visions-0.7.4\n",
      "Successfully installed pydantic-2.9.1 pydantic-core-2.23.3 scipy-1.13.1 visions-0.7.6\n",
      "Note: you may need to restart the kernel to use updated packages.\n"
     ]
    },
    {
     "name": "stderr",
     "output_type": "stream",
     "text": [
      "  WARNING: Failed to remove contents in a temporary directory 'C:\\Users\\SONY\\anaconda3\\Lib\\site-packages\\~cipy.libs'.\n",
      "  You can safely remove it manually.\n",
      "  WARNING: Failed to remove contents in a temporary directory 'C:\\Users\\SONY\\anaconda3\\Lib\\site-packages\\~-ipy'.\n",
      "  You can safely remove it manually.\n",
      "  WARNING: Failed to remove contents in a temporary directory 'C:\\Users\\SONY\\anaconda3\\Lib\\site-packages\\~ydantic'.\n",
      "  You can safely remove it manually.\n",
      "ERROR: pip's dependency resolver does not currently take into account all the packages that are installed. This behaviour is the source of the following dependency conflicts.\n",
      "gluonts 0.12.8 requires pydantic~=1.7, but you have pydantic 2.9.1 which is incompatible.\n",
      "pandas-profiling 3.2.0 requires visions[type_image_path]==0.7.4, but you have visions 0.7.6 which is incompatible.\n",
      "scikit-learn 1.5.1 requires joblib>=1.2.0, but you have joblib 1.1.1 which is incompatible.\n"
     ]
    }
   ],
   "source": [
    "# pip install ydata-profiling "
   ]
  }
 ],
 "metadata": {
  "kernelspec": {
   "display_name": "Python 3 (ipykernel)",
   "language": "python",
   "name": "python3"
  },
  "language_info": {
   "codemirror_mode": {
    "name": "ipython",
    "version": 3
   },
   "file_extension": ".py",
   "mimetype": "text/x-python",
   "name": "python",
   "nbconvert_exporter": "python",
   "pygments_lexer": "ipython3",
   "version": "3.12.3"
  }
 },
 "nbformat": 4,
 "nbformat_minor": 5
}
